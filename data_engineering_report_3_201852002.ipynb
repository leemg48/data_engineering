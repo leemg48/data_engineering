{
 "cells": [
  {
   "cell_type": "code",
   "execution_count": 3,
   "id": "f1a89fe3-a4bd-4804-8ac3-78579db0fe48",
   "metadata": {},
   "outputs": [],
   "source": [
    "hairstyles = [\"bouffant\", \"pixie\", \"dreadlocks\", \"crew\", \"bowl\", \"bob\", \"mohawk\", \"flattop\"]"
   ]
  },
  {
   "cell_type": "code",
   "execution_count": 4,
   "id": "321e86eb-d439-4953-912d-4f561465fcdf",
   "metadata": {},
   "outputs": [],
   "source": [
    "prices = [30, 25, 40, 20, 20, 35, 50, 35]"
   ]
  },
  {
   "cell_type": "code",
   "execution_count": 5,
   "id": "cde5cc93-4ac4-4739-8b8f-d56c5017aac9",
   "metadata": {},
   "outputs": [],
   "source": [
    "last_week = [2, 3, 5, 8, 4, 4, 6, 2]"
   ]
  },
  {
   "cell_type": "code",
   "execution_count": 7,
   "id": "55e29961-95bc-4c11-88bb-5e7d3e767e81",
   "metadata": {},
   "outputs": [],
   "source": [
    "total_price = 0"
   ]
  },
  {
   "cell_type": "code",
   "execution_count": 18,
   "id": "7ff1e5e6-e113-4f62-a39c-a01b161bcb01",
   "metadata": {},
   "outputs": [
    {
     "data": {
      "text/plain": [
       "510"
      ]
     },
     "execution_count": 18,
     "metadata": {},
     "output_type": "execute_result"
    }
   ],
   "source": [
    "for i in range(len(prices)):\n",
    "    total_price += prices[i]\n",
    "total_price"
   ]
  },
  {
   "cell_type": "code",
   "execution_count": 19,
   "id": "099f2a8e-b668-4d83-8e35-88dfcfe6f3d6",
   "metadata": {},
   "outputs": [],
   "source": [
    "average_price = total_price / len(prices)"
   ]
  },
  {
   "cell_type": "code",
   "execution_count": 20,
   "id": "d6b84a3c-c9eb-4a1b-bfe6-3402b02b1641",
   "metadata": {},
   "outputs": [
    {
     "name": "stdout",
     "output_type": "stream",
     "text": [
      "Average price is 63.75\n"
     ]
    }
   ],
   "source": [
    "print(\"Average price is\", average_price)"
   ]
  },
  {
   "cell_type": "code",
   "execution_count": 23,
   "id": "8c069258-0521-4089-b7e5-5e0dde755a73",
   "metadata": {},
   "outputs": [],
   "source": [
    "new_prices = [k-5 for k in prices]"
   ]
  },
  {
   "cell_type": "code",
   "execution_count": 24,
   "id": "9fef48e7-a628-45f2-8cd4-6aa59a31c3eb",
   "metadata": {},
   "outputs": [
    {
     "data": {
      "text/plain": [
       "[25, 20, 35, 15, 15, 30, 45, 30]"
      ]
     },
     "execution_count": 24,
     "metadata": {},
     "output_type": "execute_result"
    }
   ],
   "source": [
    "new_prices"
   ]
  },
  {
   "cell_type": "code",
   "execution_count": 25,
   "id": "47008e91-3070-4f96-818a-3785e955bb16",
   "metadata": {},
   "outputs": [],
   "source": [
    "total_revenue = 0"
   ]
  },
  {
   "cell_type": "code",
   "execution_count": 29,
   "id": "88209935-9e4b-4277-848d-218cd048eb54",
   "metadata": {},
   "outputs": [],
   "source": [
    "for i in range(len(hairstyles)):\n",
    "    total_revenue += prices[i] * last_week[i]"
   ]
  },
  {
   "cell_type": "code",
   "execution_count": 30,
   "id": "b3e0863b-883c-45aa-96df-5672f1db4ec6",
   "metadata": {},
   "outputs": [
    {
     "data": {
      "text/plain": [
       "4340"
      ]
     },
     "execution_count": 30,
     "metadata": {},
     "output_type": "execute_result"
    }
   ],
   "source": [
    "total_revenue"
   ]
  },
  {
   "cell_type": "code",
   "execution_count": 31,
   "id": "f3a27dc0-dc30-44bf-8aa9-4fb11bc7e181",
   "metadata": {},
   "outputs": [
    {
     "name": "stdout",
     "output_type": "stream",
     "text": [
      "Average daily revenue is 620.0\n"
     ]
    }
   ],
   "source": [
    "average_daily_revenue = total_revenue / 7\n",
    "print(\"Average daily revenue is\", average_daily_revenue)"
   ]
  },
  {
   "cell_type": "code",
   "execution_count": 43,
   "id": "e51a81be-e81d-4c66-a583-0947e515d16f",
   "metadata": {},
   "outputs": [],
   "source": [
    "cuts_under_30 = [hairstyles[i] for i in range(len(new_prices) - 1) if new_prices[i] < 30]"
   ]
  },
  {
   "cell_type": "code",
   "execution_count": 44,
   "id": "f8cf0bd2-9ce0-403f-a614-9a0cd041275d",
   "metadata": {},
   "outputs": [
    {
     "data": {
      "text/plain": [
       "['bouffant', 'pixie', 'crew', 'bowl']"
      ]
     },
     "execution_count": 44,
     "metadata": {},
     "output_type": "execute_result"
    }
   ],
   "source": [
    "cuts_under_30"
   ]
  }
 ],
 "metadata": {
  "kernelspec": {
   "display_name": "Python 3 (ipykernel)",
   "language": "python",
   "name": "python3"
  },
  "language_info": {
   "codemirror_mode": {
    "name": "ipython",
    "version": 3
   },
   "file_extension": ".py",
   "mimetype": "text/x-python",
   "name": "python",
   "nbconvert_exporter": "python",
   "pygments_lexer": "ipython3",
   "version": "3.9.12"
  }
 },
 "nbformat": 4,
 "nbformat_minor": 5
}
