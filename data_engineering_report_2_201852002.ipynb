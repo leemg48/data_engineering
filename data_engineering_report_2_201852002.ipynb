{
 "cells": [
  {
   "cell_type": "code",
   "execution_count": 67,
   "id": "ed6aa729-bd9f-48d3-bd8e-a41373575b61",
   "metadata": {},
   "outputs": [],
   "source": [
    "subject = ['physics','calculus','poetry','history']"
   ]
  },
  {
   "cell_type": "code",
   "execution_count": 68,
   "id": "d7e218da-980e-4e2b-a0c8-cec16eb28ab3",
   "metadata": {},
   "outputs": [],
   "source": [
    "grade = [98,97,85,88]"
   ]
  },
  {
   "cell_type": "code",
   "execution_count": 69,
   "id": "e0f17529-6d48-47f6-8692-3c76f76ea0cf",
   "metadata": {},
   "outputs": [],
   "source": [
    "gradebook = [['physics', 98], ['calculus', 97], ['poetry', 85], ['history', 88]]"
   ]
  },
  {
   "cell_type": "code",
   "execution_count": 70,
   "id": "c746a007-46e6-416c-9bfe-f8eca6fe59c9",
   "metadata": {},
   "outputs": [
    {
     "name": "stdout",
     "output_type": "stream",
     "text": [
      "[['physics', 98], ['calculus', 97], ['poetry', 85], ['history', 88]]\n"
     ]
    }
   ],
   "source": [
    "print(gradebook)"
   ]
  },
  {
   "cell_type": "code",
   "execution_count": 71,
   "id": "4602b431-7de2-4de1-8e31-70a249ecff91",
   "metadata": {},
   "outputs": [],
   "source": [
    "gradebook.append(['computer science',100])"
   ]
  },
  {
   "cell_type": "code",
   "execution_count": 72,
   "id": "d9a117c2-fd62-4cc3-b5aa-455c00ae1292",
   "metadata": {},
   "outputs": [],
   "source": [
    "gradebook.append(['visual arts', 93])"
   ]
  },
  {
   "cell_type": "code",
   "execution_count": 73,
   "id": "6feb9cdc-147b-4023-b598-4304733e856f",
   "metadata": {},
   "outputs": [],
   "source": [
    "gradebook[5][1]+=5"
   ]
  },
  {
   "cell_type": "code",
   "execution_count": 74,
   "id": "9a4d2e1a-f521-402a-981a-da19ebcf69e1",
   "metadata": {},
   "outputs": [],
   "source": [
    "gradebook[2].remove(85)"
   ]
  },
  {
   "cell_type": "code",
   "execution_count": 75,
   "id": "45cff2e1-606e-4e83-bc7c-046683eac161",
   "metadata": {},
   "outputs": [],
   "source": [
    "gradebook[2].append('Pass')"
   ]
  },
  {
   "cell_type": "code",
   "execution_count": 76,
   "id": "553e456e-d6d7-4394-b09d-e25837a2b464",
   "metadata": {},
   "outputs": [],
   "source": [
    "last_semester_gradebook = [['politics', 80], ['latin', 96], ['dance', 97], ['architecture', 65]]"
   ]
  },
  {
   "cell_type": "code",
   "execution_count": 77,
   "id": "a1b87f94-6e99-4b83-b451-efd3cb3c9e13",
   "metadata": {},
   "outputs": [],
   "source": [
    "full_gradebook = last_semester_gradebook + gradebook"
   ]
  },
  {
   "cell_type": "code",
   "execution_count": 78,
   "id": "d956f0a5-c8fd-44b7-a0db-3ae1199f92ae",
   "metadata": {},
   "outputs": [
    {
     "name": "stdout",
     "output_type": "stream",
     "text": [
      "[['politics', 80], ['latin', 96], ['dance', 97], ['architecture', 65], ['physics', 98], ['calculus', 97], ['poetry', 'Pass'], ['history', 88], ['computer science', 100], ['visual arts', 98]]\n"
     ]
    }
   ],
   "source": [
    "print(full_gradebook)"
   ]
  }
 ],
 "metadata": {
  "kernelspec": {
   "display_name": "Python 3 (ipykernel)",
   "language": "python",
   "name": "python3"
  },
  "language_info": {
   "codemirror_mode": {
    "name": "ipython",
    "version": 3
   },
   "file_extension": ".py",
   "mimetype": "text/x-python",
   "name": "python",
   "nbconvert_exporter": "python",
   "pygments_lexer": "ipython3",
   "version": "3.9.12"
  }
 },
 "nbformat": 4,
 "nbformat_minor": 5
}
