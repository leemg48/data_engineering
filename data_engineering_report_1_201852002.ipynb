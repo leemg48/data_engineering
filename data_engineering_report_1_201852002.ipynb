{
 "cells": [
  {
   "cell_type": "code",
   "execution_count": 20,
   "id": "604763f2-08ee-46f0-b064-214952283b97",
   "metadata": {},
   "outputs": [],
   "source": [
    "lovely_loverseat_description = \"Lovely Loverseat. Tufted polyester blend on wood. 32 inches high x 40 inches wide x 30 inches deep. Red or white.\""
   ]
  },
  {
   "cell_type": "code",
   "execution_count": 21,
   "id": "028aec7d-3e3f-46a4-b646-1d5a14ba0917",
   "metadata": {},
   "outputs": [],
   "source": [
    "lovely_loveseat_price = 254.00"
   ]
  },
  {
   "cell_type": "code",
   "execution_count": 22,
   "id": "ee2ab260-a09d-4809-8012-8b68a4e62dde",
   "metadata": {},
   "outputs": [],
   "source": [
    "stylish_settee_description = \"Stylish Settee. Faux leather on birch. 29.50 inches high x 54.75 inches wide x 28 inches deep. Black.\""
   ]
  },
  {
   "cell_type": "code",
   "execution_count": 23,
   "id": "ad3bbbe9-26a5-4412-b7c4-6ff342ff6d7a",
   "metadata": {},
   "outputs": [],
   "source": [
    "stylish_settee_price = 180.50"
   ]
  },
  {
   "cell_type": "code",
   "execution_count": 24,
   "id": "580fd4f9-7263-4b94-a566-ffe094b84ba8",
   "metadata": {},
   "outputs": [],
   "source": [
    "luxurious_lamp_description = \"Luxurious Lamp. Glass and iron. 36 inches tall. Brown with cream shade.\""
   ]
  },
  {
   "cell_type": "code",
   "execution_count": 25,
   "id": "cae9afbb-0736-4e49-8640-fc8e7e29c290",
   "metadata": {},
   "outputs": [],
   "source": [
    "luxurious_lamp_price = 52.15"
   ]
  },
  {
   "cell_type": "code",
   "execution_count": 26,
   "id": "6b2057da-93c7-4e4d-854c-2cb04e8acc8b",
   "metadata": {},
   "outputs": [],
   "source": [
    "sales_tax = .088"
   ]
  },
  {
   "cell_type": "code",
   "execution_count": 27,
   "id": "bad280f5-8ac2-4981-bf75-62bfe2ea9b4a",
   "metadata": {},
   "outputs": [],
   "source": [
    "customer_one_total = 0"
   ]
  },
  {
   "cell_type": "code",
   "execution_count": 28,
   "id": "4882c88d-1ab5-4221-855d-0049dfb46cb9",
   "metadata": {},
   "outputs": [],
   "source": [
    "customer_one_itemization = []"
   ]
  },
  {
   "cell_type": "code",
   "execution_count": 29,
   "id": "a2874c52-2cb5-4ca1-8ec8-7106c37c0e2c",
   "metadata": {},
   "outputs": [],
   "source": [
    "customer_one_total = customer_one_total + lovely_loveseat_price"
   ]
  },
  {
   "cell_type": "code",
   "execution_count": 30,
   "id": "a1547a97-e40a-43fc-a6e9-5f042c1c10dd",
   "metadata": {},
   "outputs": [],
   "source": [
    "customer_one_itemization.append(lovely_loverseat_description)"
   ]
  },
  {
   "cell_type": "code",
   "execution_count": 31,
   "id": "1cd5db0c-458c-4519-b6c2-394c3a5f9803",
   "metadata": {},
   "outputs": [],
   "source": [
    "customer_one_total = customer_one_total+luxurious_lamp_price"
   ]
  },
  {
   "cell_type": "code",
   "execution_count": 32,
   "id": "b137790e-9ed5-44df-a3ae-5a9062e1dc2e",
   "metadata": {},
   "outputs": [],
   "source": [
    "customer_one_itemization.append(luxurious_lamp_description)"
   ]
  },
  {
   "cell_type": "code",
   "execution_count": 33,
   "id": "2db3715f-7906-458d-9781-9e53070539f9",
   "metadata": {},
   "outputs": [],
   "source": [
    "customer_one_tax = customer_one_total*sales_tax"
   ]
  },
  {
   "cell_type": "code",
   "execution_count": 34,
   "id": "2048d842-1a6d-402d-9d23-78c335c8ba76",
   "metadata": {},
   "outputs": [],
   "source": [
    "customer_one_total = customer_one_total + customer_one_tax"
   ]
  },
  {
   "cell_type": "code",
   "execution_count": 35,
   "id": "7a8c1db5-ce46-4680-8039-73d63fe7d3eb",
   "metadata": {},
   "outputs": [
    {
     "name": "stdout",
     "output_type": "stream",
     "text": [
      "Customer One Items:\n",
      "['Lovely Loverseat. Tufted polyester blend on wood. 32 inches high x 40 inches wide x 30 inches deep. Red or white.', 'Luxurious Lamp. Glass and iron. 36 inches tall. Brown with cream shade.']\n",
      "Customer One Total:\n",
      "333.09119999999996\n"
     ]
    }
   ],
   "source": [
    "print(\"Customer One Items:\")\n",
    "print(customer_one_itemization)\n",
    "print(\"Customer One Total:\")\n",
    "print(customer_one_total)"
   ]
  }
 ],
 "metadata": {
  "kernelspec": {
   "display_name": "Python 3 (ipykernel)",
   "language": "python",
   "name": "python3"
  },
  "language_info": {
   "codemirror_mode": {
    "name": "ipython",
    "version": 3
   },
   "file_extension": ".py",
   "mimetype": "text/x-python",
   "name": "python",
   "nbconvert_exporter": "python",
   "pygments_lexer": "ipython3",
   "version": "3.9.12"
  }
 },
 "nbformat": 4,
 "nbformat_minor": 5
}
